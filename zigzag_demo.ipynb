{
 "cells": [
  {
   "cell_type": "markdown",
   "metadata": {},
   "source": [
    "Using ZigZag\n",
    "===\n",
    "[ZigZag](https://pypi.python.org/pypi/ZigZag) is a (very) small library [I](http://twitter.com/generativist) wrote for calculating the peaks and valleys of a sequence (e.g. time series data). It also can calculate the [maximum drawdown](http://en.wikipedia.org/wiki/Drawdown_(economics)), a useful metric for trading analysis. The repository is on github at [https://github.com/jbn/ZigZag](https://github.com/jbn/ZigZag). Prior to version `0.1.4` it optionally used [`numba`](https://github.com/numba/numba); starting with version `0.1.4`, I switched to [`Cython`](http://cython.org/). \n",
    "\n",
    "This notebook demonstrates how to use ZigZag, and draws attention to a few caveats.\n",
    "\n",
    "Installation\n",
    "---\n",
    "`pip install zigzag`\n",
    "\n",
    "Basic Usage\n",
    "---"
   ]
  },
  {
   "cell_type": "code",
   "execution_count": null,
   "metadata": {
    "tags": []
   },
   "outputs": [],
   "source": [
    "%matplotlib inline\n",
    "\n",
    "import matplotlib.pyplot as plt\n",
    "import numpy as np\n",
    "import pandas as pd\n",
    "from zigzag import *"
   ]
  },
  {
   "cell_type": "code",
   "execution_count": null,
   "metadata": {
    "tags": []
   },
   "outputs": [],
   "source": [
    "# This is not nessessary to use zigzag. It's only here so that\n",
    "# this example is reproducible.\n",
    "np.random.seed(1997)"
   ]
  },
  {
   "cell_type": "code",
   "execution_count": null,
   "metadata": {
    "tags": []
   },
   "outputs": [],
   "source": [
    "X = np.cumprod(1 + np.random.randn(100) * 0.01)\n",
    "pivots = peak_valley_pivots(X, 0.03, -0.03)"
   ]
  },
  {
   "cell_type": "code",
   "execution_count": null,
   "metadata": {},
   "outputs": [],
   "source": [
    "from stk.dao import Daily\n",
    "from stk.graphs import column_show, Candle"
   ]
  },
  {
   "cell_type": "code",
   "execution_count": null,
   "metadata": {},
   "outputs": [],
   "source": [
    "# df = Daily().\n",
    "daily = Daily()\n",
    "df = daily.read_by_code('600004')\n",
    "df = df[df.date > '2022-01-01'].copy().reset_index(drop=True)[['date', 'close', 'open', 'high', 'low', 'chg']]\n",
    "# column_show([Candle('byjc', df).renderV2()])"
   ]
  },
  {
   "cell_type": "code",
   "execution_count": null,
   "metadata": {},
   "outputs": [],
   "source": [
    "df"
   ]
  },
  {
   "cell_type": "code",
   "execution_count": null,
   "metadata": {
    "tags": []
   },
   "outputs": [],
   "source": [
    "def plot_pivots(X, pivots):\n",
    "    plt.xlim(0, len(X))\n",
    "    plt.ylim(X.min()*0.99, X.max()*1.01)\n",
    "    plt.plot(np.arange(len(X)), X, 'k:', alpha=0.5)\n",
    "    plt.plot(np.arange(len(X))[pivots != 0], X[pivots != 0], 'k-')\n",
    "    plt.scatter(np.arange(len(X))[pivots == 1], X[pivots == 1], color='g')\n",
    "    plt.scatter(np.arange(len(X))[pivots == -1], X[pivots == -1], color='r')"
   ]
  },
  {
   "cell_type": "code",
   "execution_count": null,
   "metadata": {},
   "outputs": [],
   "source": [
    "X = df.close.to_numpy()\n",
    "pivots = peak_valley_pivots(X, 0.15, -0.1)"
   ]
  },
  {
   "cell_type": "markdown",
   "metadata": {},
   "source": [
    "The following plot illustrates how the sequence was annotated. "
   ]
  },
  {
   "cell_type": "code",
   "execution_count": null,
   "metadata": {},
   "outputs": [],
   "source": [
    "plot_pivots(X, pivots)"
   ]
  },
  {
   "cell_type": "code",
   "execution_count": null,
   "metadata": {},
   "outputs": [],
   "source": [
    "idx_peak = [i for i, v in enumerate(list(pivots)) if v == 1 and i !=0]\n",
    "idx_trough = [i for i, v in enumerate(list(pivots)) if v == -1 and i != len(pivots)-1]\n",
    "idx = list(zip(idx_trough, idx_peak)) \n",
    "print(idx)"
   ]
  },
  {
   "cell_type": "code",
   "execution_count": null,
   "metadata": {},
   "outputs": [],
   "source": [
    "idx_peak = [v[1] for v in list(idx)]\n",
    "idx_trough = [v[0] for v in idx]\n",
    "idx_peak, idx_trough"
   ]
  },
  {
   "cell_type": "code",
   "execution_count": null,
   "metadata": {},
   "outputs": [],
   "source": [
    "def cal_percentage(idx_pairs, df):\n",
    "    change = []\n",
    "    print(idx_pairs)\n",
    "    for idx in idx_pairs:\n",
    "        # print(idx[1])\n",
    "        peak = df.loc[idx[1]].close\n",
    "        trough = df.loc[idx[0]].close\n",
    "        change.append('')\n",
    "        change.append((peak-trough)/trough)\n",
    "    return change\n",
    "\n",
    "\n",
    "df2 = df.iloc[idx_peak + idx_trough].sort_index() #.reset_index(drop=True)\n",
    "df2['change'] = cal_percentage(idx, df2)\n",
    "df2"
   ]
  },
  {
   "cell_type": "code",
   "execution_count": null,
   "metadata": {},
   "outputs": [],
   "source": [
    "plot_pivots(X, pivots)"
   ]
  },
  {
   "cell_type": "markdown",
   "metadata": {},
   "source": [
    "The following shows how you can use `pivots_to_modes` to inspect the segments."
   ]
  },
  {
   "cell_type": "code",
   "execution_count": null,
   "metadata": {},
   "outputs": [],
   "source": [
    "modes = pivots_to_modes(pivots)\n",
    "pd.Series(X).pct_change().groupby(modes).describe()"
   ]
  },
  {
   "cell_type": "markdown",
   "metadata": {},
   "source": [
    "Calculate the peak to valley returns for all of the segments."
   ]
  },
  {
   "cell_type": "code",
   "execution_count": null,
   "metadata": {},
   "outputs": [],
   "source": [
    "compute_segment_returns(X, pivots)"
   ]
  },
  {
   "cell_type": "markdown",
   "metadata": {},
   "source": [
    "Finally, compute the oft-quoted (in financial literature) `max_drawdown`."
   ]
  },
  {
   "cell_type": "code",
   "execution_count": null,
   "metadata": {},
   "outputs": [],
   "source": [
    "max_drawdown(X)"
   ]
  },
  {
   "cell_type": "markdown",
   "metadata": {},
   "source": [
    "Pandas Compatability\n",
    "---\n",
    "The `peak_valley_pivots` function works on pandas `series` assuming the index is either a DateTimeIndex or is \\[0, n). [Pandas](http://pandas.pydata.org/) is great."
   ]
  },
  {
   "cell_type": "code",
   "execution_count": null,
   "metadata": {},
   "outputs": [],
   "source": [
    "from pandas_datareader import get_data_yahoo\n",
    "\n",
    "X = get_data_yahoo('GOOG')['Adj Close']\n",
    "pivots = peak_valley_pivots(X.values, 0.2, -0.2)\n",
    "ts_pivots = pd.Series(X, index=X.index)\n",
    "ts_pivots = ts_pivots[pivots != 0]\n",
    "X.plot()\n",
    "ts_pivots.plot(style='g-o');"
   ]
  },
  {
   "cell_type": "markdown",
   "metadata": {},
   "source": [
    "# `#WONTFIX`"
   ]
  },
  {
   "cell_type": "markdown",
   "metadata": {},
   "source": [
    "[in PR#13 `ytian` writes](https://github.com/jbn/ZigZag/pull/13),\n",
    "\n",
    "> the code has some bugs for some test cases:\n",
    "> code:\n",
    ">\n",
    "> a = np.array([1, 1.2, 1.5, 1.8, 2.4, 3.3, 2.4, 1.5, 1.6])  \n",
    "> peak_valley_pivots(a, 0.2, -0.2) \n",
    "> \n",
    "> output (wrong result)  \n",
    "> array([-1, 0, 0, 0, 0, 1, 0, 0, 1]) \n",
    "> \n",
    "> output (after fix)  \n",
    "> array([-1, 0, 0, 0, 0, 1, 0, -1, 1])\n"
   ]
  },
  {
   "cell_type": "markdown",
   "metadata": {},
   "source": [
    "Visually,"
   ]
  },
  {
   "cell_type": "code",
   "execution_count": null,
   "metadata": {},
   "outputs": [],
   "source": [
    "X = np.array([1, 1.2, 1.5, 1.8, 2.4, 3.3, 2.4, 1.5, 1.6])\n",
    "pivots = peak_valley_pivots(X, 0.2, -0.2)\n",
    "plot_pivots(X, pivots)"
   ]
  },
  {
   "cell_type": "markdown",
   "metadata": {},
   "source": [
    "Intuitively, what he is saying seems to make sense. \n",
    "\n",
    "- 3.3 is the peak\n",
    "- 1.5 is the lowest point after it\n",
    "- 1.6 is above 1.5 so can't be the valley pivot\n",
    "\n",
    "The difficulty here is that 1.6 is not a peak, either. A local one, yes, but not according to the segmenter which requires `>20%` which 1.6 above 1.5 does not satisfy."
   ]
  },
  {
   "cell_type": "code",
   "execution_count": null,
   "metadata": {},
   "outputs": [],
   "source": []
  }
 ],
 "metadata": {
  "anaconda-cloud": {},
  "kernelspec": {
   "display_name": "Python 3.8.5 ('toolbox')",
   "language": "python",
   "name": "python3"
  },
  "language_info": {
   "codemirror_mode": {
    "name": "ipython",
    "version": 3
   },
   "file_extension": ".py",
   "mimetype": "text/x-python",
   "name": "python",
   "nbconvert_exporter": "python",
   "pygments_lexer": "ipython3",
   "version": "3.8.5"
  },
  "vscode": {
   "interpreter": {
    "hash": "93269fc207d875fc8827481128ec262a9154608b4fe1e3c9c994a982b51a61dd"
   }
  }
 },
 "nbformat": 4,
 "nbformat_minor": 4
}
